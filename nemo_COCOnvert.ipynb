{
 "cells": [
  {
   "cell_type": "markdown",
   "id": "e30c39b3-7cf9-472c-a9f2-483a80855226",
   "metadata": {},
   "source": [
    "# Converting CSV annotations (with or without missing columns) to COCO JSON format.\n",
    "### Tutorial by Amirhesam Yazdi\n",
    "The minumum requirements is having the filenames for the images, and bounding boxes, similar to the Wildfire detection open-fire-tech dataset (used in [this paper](https://doi.org/10.3390/rs12010166) by Lawrence Berkeley National Lab & Fireball LLC)."
   ]
  },
  {
   "cell_type": "markdown",
   "id": "71e60c2e-e22c-486e-a5be-8955fb7b515e",
   "metadata": {},
   "source": [
    "|    |   MinX |   MinY |   MaxX |   MaxY | Filename                             |\n",
    "|---:|-------:|-------:|-------:|-------:|:-------------------------------------|\n",
    "|  0 |    547 |    974 |    608 |   1007 | bh-w-mobo-c__2019-06-10T13;26;16.jpg |\n",
    "|  1 |    522 |    971 |    612 |   1011 | bh-w-mobo-c__2019-06-10T13;27;16.jpg |\n",
    "|  2 |    537 |    949 |    606 |   1004 | bh-w-mobo-c__2019-06-10T13;28;16.jpg |\n",
    "|  3 |    499 |    918 |    604 |   1004 | bh-w-mobo-c__2019-06-10T13;29;16.jpg |\n",
    "|  4 |    472 |    894 |    606 |   1004 | bh-w-mobo-c__2019-06-10T13;30;16.jpg |\n",
    "\n",
    "The other columns (class, width, height, ...) can be derived based on context and images. You can edit the csv file directly and add placeholder columns and then load it with pandas; or you can add columns after loading with pandas."
   ]
  },
  {
   "cell_type": "code",
   "execution_count": 1,
   "id": "1a6a792b-9eba-45ac-a157-c02ddc1cb8fd",
   "metadata": {},
   "outputs": [],
   "source": [
    "import numpy as np\n",
    "import json\n",
    "import pandas as pd\n",
    "import cv2"
   ]
  },
  {
   "cell_type": "code",
   "execution_count": 2,
   "id": "4decb0fe-074c-4464-a97e-81007657b487",
   "metadata": {},
   "outputs": [],
   "source": [
    "path = 'FuegoDataset/annot_fuego.csv'\n",
    "save_json_path='FuegoDataset/fuegoConvert.json'\n",
    "img_path='FuegoDataset/1_smoke/'"
   ]
  },
  {
   "cell_type": "code",
   "execution_count": 3,
   "id": "af621c1f-a9ec-4bdc-9a22-9844bfd325ac",
   "metadata": {},
   "outputs": [],
   "source": [
    "data = pd.read_csv(path)\n",
    "df = data.copy()"
   ]
  },
  {
   "cell_type": "markdown",
   "id": "480ed853-a83a-4486-87c3-a7dcb6e3fd9a",
   "metadata": {},
   "source": [
    "If your csv file doesn't include annotations for all the classes in your problem, then those categories will not be created automatically.\n",
    "There are 2 options:\n",
    "> 1. add an annotation entry for each class that is not represented.\n",
    "> 2. (preferred) make sure to manually edit the categories section of the converted json file to include the missing categories. \n",
    "\n",
    "```\n",
    "data.tail()\n",
    "```\n",
    "|      | filename                             | class      |   width |   height |   xmin |   ymin |   xmax |   ymax |\n",
    "|-----:|:-------------------------------------|:-----------|--------:|---------:|-------:|-------:|-------:|-------:|\n",
    "| 1737 | wc-s-mobo-c__2019-09-24T15;26;22.jpg | smoke      |     nan |      nan |     75 |    854 |    296 |    990 |\n",
    "| 1738 | wc-s-mobo-c__2019-09-24T15;27;22.jpg | smoke      |     nan |      nan |     73 |    863 |    267 |    988 |\n",
    "| 1739 | wc-s-mobo-c__2019-09-24T15;27;22.jpg | fire       |     nan |      nan |     73 |    863 |    267 |    988 |\n",
    "| 1740 | wc-s-mobo-c__2019-09-24T15;27;22.jpg | flame      |     nan |      nan |     73 |    863 |    267 |    988 |\n",
    "| 1741 | wc-s-mobo-c__2019-09-24T15;27;22.jpg | NightSmoke |     nan |      nan |     73 |    863 |    267 |    988 |"
   ]
  },
  {
   "cell_type": "code",
   "execution_count": 4,
   "id": "54548dbf-61da-4471-9237-9999cb3e9e94",
   "metadata": {},
   "outputs": [],
   "source": [
    "images = []\n",
    "categories = []\n",
    "annotations = []\n",
    "\n",
    "category = {}\n",
    "category[\"supercategory\"] = 'none'\n",
    "category[\"id\"] = 0\n",
    "category[\"name\"] = 'None'\n",
    "categories.append(category)"
   ]
  },
  {
   "cell_type": "code",
   "execution_count": 5,
   "id": "c3341421-745a-432e-91e1-8668fa651f92",
   "metadata": {},
   "outputs": [],
   "source": [
    "data['fileid'] = data['filename'].astype('category').cat.codes\n",
    "data['categoryid']= pd.Categorical(data['class'],categories=['smoke','fire','flame','NightSmoke']).codes\n",
    "data['categoryid'] = data['categoryid']+1 # + 1 is because we are keeping 0 for N/A and ommiting it from Categories\n",
    "data['annid'] = data.index + 1"
   ]
  },
  {
   "cell_type": "markdown",
   "id": "7a969560-c17a-47f2-85d3-56b4bfc809f6",
   "metadata": {},
   "source": [
    "```\n",
    "data.tail()\n",
    "```\n",
    "|      | filename                             | class      |   width |   height |   xmin |   ymin |   xmax |   ymax |   fileid |   categoryid |   annid |\n",
    "|-----:|:-------------------------------------|:-----------|--------:|---------:|-------:|-------:|-------:|-------:|---------:|-------------:|--------:|\n",
    "| 1737 | wc-s-mobo-c__2019-09-24T15;26;22.jpg | smoke      |     nan |      nan |     75 |    854 |    296 |    990 |     1645 |            1 |    1738 |\n",
    "| 1738 | wc-s-mobo-c__2019-09-24T15;27;22.jpg | smoke      |     nan |      nan |     73 |    863 |    267 |    988 |     1646 |            1 |    1739 |\n",
    "| 1739 | wc-s-mobo-c__2019-09-24T15;27;22.jpg | fire       |     nan |      nan |     73 |    863 |    267 |    988 |     1646 |            2 |    1740 |\n",
    "| 1740 | wc-s-mobo-c__2019-09-24T15;27;22.jpg | flame      |     nan |      nan |     73 |    863 |    267 |    988 |     1646 |            3 |    1741 |\n",
    "| 1741 | wc-s-mobo-c__2019-09-24T15;27;22.jpg | NightSmoke |     nan |      nan |     73 |    863 |    267 |    988 |     1646 |            4 |    1742 |"
   ]
  },
  {
   "cell_type": "markdown",
   "id": "22d96582-8a97-458a-8d0f-876d3d7ae9b1",
   "metadata": {},
   "source": [
    "### getting image pixel dimension (width and height) from the images"
   ]
  },
  {
   "cell_type": "code",
   "execution_count": 6,
   "id": "f26505cd-658d-4084-a3f2-6f6ac734bdc0",
   "metadata": {},
   "outputs": [
    {
     "name": "stdout",
     "output_type": "stream",
     "text": [
      "1741 \t wc-s-mobo-c__2019-09-24T15;27;22.jpg7.jpg\r"
     ]
    }
   ],
   "source": [
    "for row in data.itertuples():\n",
    "    temp_path = img_path + row.filename\n",
    "    image = cv2.imread(temp_path)\n",
    "    data.loc[row.Index,'height'], data.loc[row.Index,'width'],_ = image.shape\n",
    "    print(row.Index, '\\t', row.filename, end='\\r')"
   ]
  },
  {
   "cell_type": "markdown",
   "id": "3129a08b-822d-4936-8730-c10af6127e6b",
   "metadata": {},
   "source": [
    "```\n",
    "data.sample()\n",
    "```\n",
    "|      | filename                                  | class   |   width |   height |   xmin |   ymin |   xmax |   ymax |   fileid |   categoryid |   annid |\n",
    "|-----:|:------------------------------------------|:--------|--------:|---------:|-------:|-------:|-------:|-------:|---------:|-------------:|--------:|\n",
    "| 1347 | pi-s-mobo-c__2019-08-26T12;02;08.jpg      | smoke   |    1536 |     2048 |   1231 |    730 |   1264 |    760 |      875 |            1 |    1348 |\n",
    "|  515 | smer-tcs9-mobo-c__2019-10-03T12;35;00.jpg | smoke   |    2048 |     3072 |   1860 |    729 |   1980 |    814 |     1484 |            1 |     516 |\n",
    "| 1471 | smer-tcs9-mobo-c__2019-08-26T16;22;57.jpg | smoke   |    2048 |     3072 |   1753 |    794 |   1811 |    831 |     1403 |            1 |    1472 |\n",
    "|  505 | rm-w-mobo-c__2019-10-03T13;40;09.jpg      | smoke   |    1536 |     2048 |    866 |    761 |    944 |    834 |     1199 |            1 |     506 |\n",
    "| 1732 | wc-s-mobo-c__2019-09-24T15;17;22.jpg      | smoke   |    2048 |     3072 |    100 |    850 |    382 |    975 |     1640 |            1 |    1733 |\n",
    "| 1683 | ml-w-mobo-c__2019-09-24T15;12;17.jpg      | smoke   |    1536 |     2048 |    699 |    833 |    755 |    882 |      606 |            1 |    1684 |\n",
    "|   83 | om-e-mobo-c__2019-10-01T11;20;37.jpg      | smoke   |    2048 |     3072 |   2557 |   1040 |   2731 |   1206 |      687 |            1 |      84 |\n",
    "| 1552 | rm-w-mobo-c__2019-08-29T11;55;06.jpg      | smoke   |    1536 |     2048 |   1065 |    782 |   1139 |    819 |     1081 |            1 |    1553 |\n",
    "| 1729 | wc-s-mobo-c__2019-09-24T15;10;24.jpg      | smoke   |    2048 |     3072 |    127 |    846 |    275 |    994 |     1637 |            1 |    1730 |\n",
    "|  938 | bh-w-mobo-c__2019-06-10T13;24;16.jpg      | smoke   |    1536 |     2048 |    567 |    970 |    631 |   1015 |       39 |            1 |     939 |"
   ]
  },
  {
   "cell_type": "markdown",
   "id": "1feb122f-945b-4c59-a342-83351c0012c4",
   "metadata": {},
   "source": [
    "#### functions to retrieve tabular information to populat each section of the json"
   ]
  },
  {
   "cell_type": "code",
   "execution_count": 7,
   "id": "1f8e2f60-b27a-4f3d-b2bd-8f4861db7fe2",
   "metadata": {},
   "outputs": [],
   "source": [
    "def image(row):\n",
    "    image = {}\n",
    "    image[\"height\"] = row.height\n",
    "    image[\"width\"] = row.width\n",
    "    image[\"id\"] = row.fileid\n",
    "    image[\"file_name\"] = row.filename\n",
    "    return image\n",
    "\n",
    "def category(row):\n",
    "    category = {}\n",
    "    category[\"supercategory\"] = 'None'\n",
    "    category[\"id\"] = row.categoryid\n",
    "    category[\"name\"] = row[2]\n",
    "    return category\n",
    "\n",
    "def annotation(row):\n",
    "    annotation = {}\n",
    "    area = (row.xmax -row.xmin)*(row.ymax - row.ymin)\n",
    "    annotation[\"segmentation\"] = []\n",
    "    annotation[\"iscrowd\"] = 0\n",
    "    annotation[\"area\"] = area\n",
    "    annotation[\"image_id\"] = row.fileid\n",
    "\n",
    "    annotation[\"bbox\"] = [row.xmin, row.ymin, row.xmax -row.xmin,row.ymax-row.ymin ]\n",
    "\n",
    "    annotation[\"category_id\"] = row.categoryid\n",
    "    annotation[\"id\"] = row.annid\n",
    "    return annotation"
   ]
  },
  {
   "cell_type": "code",
   "execution_count": 8,
   "id": "7ba83a12-24f6-4384-98b0-b8851b0e07e7",
   "metadata": {},
   "outputs": [],
   "source": [
    "# populate annotations\n",
    "for row in data.itertuples():\n",
    "    annotations.append(annotation(row))"
   ]
  },
  {
   "cell_type": "markdown",
   "id": "64e31edf-43ec-4f22-8b32-889aa9e75bb7",
   "metadata": {},
   "source": [
    "Last 5 annoatations\n",
    "```\n",
    "annotations[-5:]\n",
    "```\n",
    "[{'segmentation': [],\n",
    "  'iscrowd': 0,\n",
    "  'area': 30056,\n",
    "  'image_id': 1645,\n",
    "  'bbox': [75, 854, 221, 136],\n",
    "  'category_id': 1,\n",
    "  'id': 1738},\n",
    " {'segmentation': [],\n",
    "  'iscrowd': 0,\n",
    "  'area': 24250,\n",
    "  'image_id': 1646,\n",
    "  'bbox': [73, 863, 194, 125],\n",
    "  'category_id': 1,\n",
    "  'id': 1739},\n",
    " {'segmentation': [],\n",
    "  'iscrowd': 0,\n",
    "  'area': 24250,\n",
    "  'image_id': 1646,\n",
    "  'bbox': [73, 863, 194, 125],\n",
    "  'category_id': 2,\n",
    "  'id': 1740},\n",
    " {'segmentation': [],\n",
    "  'iscrowd': 0,\n",
    "  'area': 24250,\n",
    "  'image_id': 1646,\n",
    "  'bbox': [73, 863, 194, 125],\n",
    "  'category_id': 3,\n",
    "  'id': 1741},\n",
    " {'segmentation': [],\n",
    "  'iscrowd': 0,\n",
    "  'area': 24250,\n",
    "  'image_id': 1646,\n",
    "  'bbox': [73, 863, 194, 125],\n",
    "  'category_id': 4,\n",
    "  'id': 1742}]"
   ]
  },
  {
   "cell_type": "markdown",
   "id": "87d3dabd-cb25-4b7d-af15-2ae2a43a3dbc",
   "metadata": {},
   "source": [
    "sorting the images based on their fileid and removing duplicates to then extract list of images for the images section of COCO json format"
   ]
  },
  {
   "cell_type": "code",
   "execution_count": 9,
   "id": "94bce108-b86a-4d57-a608-f522435abf60",
   "metadata": {},
   "outputs": [],
   "source": [
    "imagedf = data.drop_duplicates(subset=['fileid']).sort_values(by='fileid')\n",
    "for row in imagedf.itertuples():\n",
    "    images.append(image(row))"
   ]
  },
  {
   "cell_type": "markdown",
   "id": "53a6ed44-1c9c-4e5c-8a93-01f2d1663b90",
   "metadata": {},
   "source": [
    "Keep only one row from each category and then extract the category ids for the category section"
   ]
  },
  {
   "cell_type": "code",
   "execution_count": 10,
   "id": "d68e0a65-5dd6-4c3d-ad2c-b6c6577d2ebb",
   "metadata": {},
   "outputs": [],
   "source": [
    "catdf = data.drop_duplicates(subset=['categoryid']).sort_values(by='categoryid')\n",
    "for row in catdf.itertuples():\n",
    "    categories.append(category(row))"
   ]
  },
  {
   "cell_type": "markdown",
   "id": "3b00363c-1645-430e-8b01-803be19b3e06",
   "metadata": {},
   "source": [
    "Combining it all!"
   ]
  },
  {
   "cell_type": "code",
   "execution_count": 11,
   "id": "d1e05a92-48ea-4a07-8cd9-704163535c94",
   "metadata": {},
   "outputs": [],
   "source": [
    "data_coco = {}\n",
    "data_coco[\"images\"] = images\n",
    "data_coco[\"categories\"] = categories\n",
    "data_coco[\"annotations\"] = annotations"
   ]
  },
  {
   "cell_type": "markdown",
   "id": "d3452c96-82bb-4b3b-97f6-21369b466a7d",
   "metadata": {},
   "source": [
    "Saving the converted file in the specified path."
   ]
  },
  {
   "cell_type": "code",
   "execution_count": 12,
   "id": "782cbba8-a1de-47b7-8116-df4761f3d939",
   "metadata": {},
   "outputs": [],
   "source": [
    "json.dump(data_coco, open(save_json_path, \"w\"), indent=4)"
   ]
  },
  {
   "cell_type": "markdown",
   "id": "80111b67-d403-4912-b804-6f6de1327ed1",
   "metadata": {},
   "source": [
    "#### NOTE: You might need to remove category 0 from the converted annotations. \n",
    "> DETR doesn't explicitly define \"N/A\" categories associated with no-object. They are skipped in the category section but counted in number of class. \n",
    "> It is also possible to have more than one N/A class by skipping more categories and then counting them in the model. Refer to DETR hands-on colab to see the full list of classes. There you will notice that roughly for each 10 object classes, there is a N/A class. But these classes are not explicitly defined in Categories in COCO dataset. "
   ]
  },
  {
   "cell_type": "code",
   "execution_count": null,
   "id": "302db830-82f4-4b29-b03a-c70c04c129a7",
   "metadata": {},
   "outputs": [],
   "source": []
  }
 ],
 "metadata": {
  "kernelspec": {
   "display_name": "Python 3",
   "language": "python",
   "name": "python3"
  },
  "language_info": {
   "codemirror_mode": {
    "name": "ipython",
    "version": 3
   },
   "file_extension": ".py",
   "mimetype": "text/x-python",
   "name": "python",
   "nbconvert_exporter": "python",
   "pygments_lexer": "ipython3",
   "version": "3.9.5"
  }
 },
 "nbformat": 4,
 "nbformat_minor": 5
}
