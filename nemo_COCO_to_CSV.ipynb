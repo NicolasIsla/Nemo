{
 "cells": [
  {
   "cell_type": "markdown",
   "id": "8e6c7176-2f87-44c9-af45-e51f029ba2bd",
   "metadata": {},
   "source": [
    "# Convert COCO JSON to CSV (multi-class with filename)\n",
    "> The implementations of this on the internet works only for single class and they use image_id and category_id instead of their actual value. So this is the complete implementation."
   ]
  },
  {
   "cell_type": "code",
   "execution_count": null,
   "id": "99748e65-0dd8-41e0-b8a7-a6ff2e2ac849",
   "metadata": {},
   "outputs": [],
   "source": [
    "#data.to_csv('FuegoDataset/trainfullanot.csv')\n",
    "#print(json.dumps(data_coco,indent=4))"
   ]
  },
  {
   "cell_type": "code",
   "execution_count": null,
   "id": "fec3da3f-fb0e-44b3-ac26-597e1e0fdec3",
   "metadata": {},
   "outputs": [],
   "source": [
    "json_path = 'GPUH_Downloads/sample_val.json'\n",
    "#save_csv_path='GPUH_Downloads/sample_val.csv'"
   ]
  },
  {
   "cell_type": "code",
   "execution_count": null,
   "id": "15365ac9-faf3-479d-9799-571d8c195044",
   "metadata": {},
   "outputs": [],
   "source": [
    "import json\n",
    "import pandas as pd"
   ]
  },
  {
   "cell_type": "code",
   "execution_count": null,
   "id": "4c7f4a33-aae6-464a-8e1c-1574146e4752",
   "metadata": {},
   "outputs": [],
   "source": [
    "from coco2csv import convert_coco_json_to_csv as cococsv"
   ]
  },
  {
   "cell_type": "markdown",
   "id": "b0e3282d-02ba-4787-84c6-8b02de206706",
   "metadata": {},
   "source": [
    "the code will save to [samename].csv by default. Optional: pass a path/to/csv as second argument "
   ]
  },
  {
   "cell_type": "code",
   "execution_count": null,
   "id": "93066773-0053-405a-9882-8dedb6a4cabc",
   "metadata": {},
   "outputs": [],
   "source": [
    "cococsv(json_path)"
   ]
  },
  {
   "cell_type": "markdown",
   "id": "d55376ff-f9a1-499b-8640-d77039fda4a6",
   "metadata": {},
   "source": [
    "The above will convert json to csv only with numerical values (image_id, category_id) as found in \"annotations\".\n",
    "\n",
    "If you want to further complete the csv file to include the actual filenames, label names and more, continue."
   ]
  },
  {
   "cell_type": "code",
   "execution_count": null,
   "id": "5890a636-bdaf-407c-b194-af00b0305014",
   "metadata": {},
   "outputs": [],
   "source": [
    "loadj = json.load(open(json_path, 'r'))"
   ]
  },
  {
   "cell_type": "code",
   "execution_count": null,
   "id": "db871597-67b4-40a1-bba2-24c1bfc95473",
   "metadata": {},
   "outputs": [],
   "source": [
    "loadj['annotations']"
   ]
  },
  {
   "cell_type": "markdown",
   "id": "b020d7c0-e722-4317-b1f0-fef885f53d88",
   "metadata": {},
   "source": [
    "loading the converted csv file."
   ]
  },
  {
   "cell_type": "code",
   "execution_count": null,
   "id": "d77b2152-2767-4fdd-944c-e8e052ab779d",
   "metadata": {},
   "outputs": [],
   "source": [
    "csv1 = pd.read_csv('GPUH_Downloads/sample_val.csv')"
   ]
  },
  {
   "cell_type": "code",
   "execution_count": null,
   "id": "e0ef229d-2477-4276-8737-87b2647e83ca",
   "metadata": {},
   "outputs": [],
   "source": [
    "csv1"
   ]
  },
  {
   "cell_type": "code",
   "execution_count": null,
   "id": "aab20a98-b8f4-481e-9516-867d3fe868bf",
   "metadata": {},
   "outputs": [],
   "source": [
    "for row in csv1.itertuples():\n",
    "    for img in loadj['images']:\n",
    "        if img['id'] == row.id:\n",
    "            print(row.Index, '\\t', row.id, img['file_name'] , end='\\r')\n",
    "            csv1.loc[row.Index,'filename'] = img['file_name']\n",
    "            csv1.loc[row.Index,'height'] = img['height']\n",
    "            csv1.loc[row.Index,'width'] = img['width']\n",
    "            #print(csv1.loc[row.Index,row.id])\n",
    "            break"
   ]
  },
  {
   "cell_type": "code",
   "execution_count": null,
   "id": "b7a1563b-4682-4eb9-b0a9-3f8658e592f2",
   "metadata": {},
   "outputs": [],
   "source": [
    "for row in csv1.itertuples():\n",
    "    for cat in loadj['categories']:\n",
    "        if cat['id'] == row.label:\n",
    "            print(row.Index, '\\t', row.label, cat['name'] , end='\\r')\n",
    "            csv1.loc[row.Index,'class'] = cat['name']\n",
    "            #print(csv1.loc[row.Index,row.id])\n",
    "            break"
   ]
  },
  {
   "cell_type": "code",
   "execution_count": null,
   "id": "94c9b7ae-b671-4144-8f41-a061ecdd2b63",
   "metadata": {},
   "outputs": [],
   "source": [
    "csv1"
   ]
  },
  {
   "cell_type": "code",
   "execution_count": null,
   "id": "907ffaf5-59b3-4622-b0f9-e00c0483bac7",
   "metadata": {},
   "outputs": [],
   "source": [
    "csv1.to_csv('GPUH_Downloads/sample_val.csv',index=False)"
   ]
  }
 ],
 "metadata": {
  "kernelspec": {
   "display_name": "Python 3",
   "language": "python",
   "name": "python3"
  },
  "language_info": {
   "codemirror_mode": {
    "name": "ipython",
    "version": 3
   },
   "file_extension": ".py",
   "mimetype": "text/x-python",
   "name": "python",
   "nbconvert_exporter": "python",
   "pygments_lexer": "ipython3",
   "version": "3.9.5"
  }
 },
 "nbformat": 4,
 "nbformat_minor": 5
}
